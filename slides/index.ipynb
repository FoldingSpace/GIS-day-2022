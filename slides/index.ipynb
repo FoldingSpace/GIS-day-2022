{
  "cells": [
    {
      "cell_type": "raw",
      "metadata": {},
      "source": [
        "---\n",
        "title: Thematic Mapping that Bridges Spatial Analysis with Landscape Synthesis\n",
        "author: Luke Bergmann & David O'Sullivan\n",
        "format:\n",
        "  revealjs:\n",
        "    theme:\n",
        "      - beige\n",
        "      - custom.scss\n",
        "    transition: fade\n",
        "    transition-speed: slow\n",
        "    navigation-mode: vertical\n",
        "    controls-layout: bottom-right\n",
        "    controls-tutorial: true\n",
        "    slide-number: c/t\n",
        "    logo: images/logo.png\n",
        "    footer: GIS DAY 2022 - Tiled & woven thematic maps - Bergmann & O'Sullivan\n",
        "    self-contained: true\n",
        "---"
      ],
      "id": "f6a83061"
    },
    {
      "cell_type": "code",
      "metadata": {},
      "source": [
        "import sys\n",
        "import os\n",
        "os.chdir(\"C:/data/working/GIS-day-2022\")\n",
        "\n",
        "import matplotlib.pyplot as pyplot\n",
        "import geopandas as gpd\n",
        "\n",
        "from shapely.geometry import Polygon\n",
        "from shapely.affinity import rotate\n",
        "\n",
        "from weavingspace import TileUnit\n",
        "from weavingspace import TileShape  \n",
        "from weavingspace import WeaveUnit\n",
        "from weavingspace import Tiling\n",
        "from weavingspace import tiling_utils\n",
        "\n",
        "ak = gpd.read_file(\"data/imd-auckland-2018.gpkg\")\n",
        "vars = [v for v in ak.columns if \"Rank\" in v][:4]\n",
        "variables = dict(zip(list(\"abcd\"), vars))\n",
        "colourmaps = dict(zip(variables.values(), 4 * [\"viridis\"]))"
      ],
      "id": "dfb65dcb",
      "execution_count": null,
      "outputs": []
    },
    {
      "cell_type": "markdown",
      "metadata": {},
      "source": [
        "# What we are doing {.smaller background-image=\"images/detailed-weave.png\" background-opacity=0.65 style=\"text-shadow: 2px 2px 5px #ffc, -2px -2px 5px #ffc;\"}\n",
        "\n",
        "- Developing new multivariate thematic mapping techniques: Color Weaving and Tiling \n",
        "\n",
        "- [Developing python code (https://github.com/DOSull/weaving-space)](https://github.com/DOSull/weaving-space) that helps you make them.\n",
        "\n",
        "- Making examples, which also helps us do the above.\n",
        "\n",
        "# Other types of multivariate maps? {.smaller background-image=\"images/detailed-weave.png\" background-opacity=0.65 style=\"text-shadow: 2px 2px 5px #ffc, -2px -2px 5px #ffc;\"}\n",
        "\n",
        "This is a perennially challenging problem, so many different ways of tackling it have been attempted...\n",
        "\n",
        "##\n",
        "\n",
        "::: {.r-stack}\n",
        "![](images/small-multiples.png \"Tufte recommends this approach\"){.fragment .fade-out fragment-index=1 width=\"800\"}\n",
        "\n",
        "![](images/bivariate-choropleth-stevens-qgis.png \"2-colours, OK\"){.fragment .fade-in-then-out fragment-index=1 width=\"800\"}\n",
        "\n",
        "![](images/tricolore.png \"3-colours, brown\"){.fragment .fade-in-then-out fragment-index=2 width=\"800\"}\n",
        "\n",
        "![](images/choropleth-with-symbols-qgis.png \"Probably the most conventional option\"){.fragment .fade-in-then-out fragment-index=3 width=\"800\"}\n",
        "\n",
        "![](images/dorling-chernoff-faces.jpg \"Probably the least conventional option\"){.fragment .fade-in-then-out fragment-index=4 width=\"500\"}\n",
        "\n",
        "![](images/dot-map.png \"This approach is older than you might imagine, see Jenks GF, 1953, “‘Pointilism’ as a cartographic technique” The Professional Geographer 5(5) 4–6\n",
        "\"){.fragment .fade-in fragment-index=5 width=\"800\"}\n",
        "\n",
        "::: \n",
        "\n",
        "# Previewing our methods' results\n",
        "\n",
        "A little more context for these was provided in [an earlier talk](https://dosull.github.io/weaving-space/NZCS-Nov-2021/make-weave-map.html) we gave at the New Zealand Cartographic Society meeting.\n",
        "\n",
        "## {transition=\"slide-in none-out\"}\n"
      ],
      "id": "ba2d061b"
    },
    {
      "cell_type": "code",
      "metadata": {},
      "source": [
        "tile_unit = TileUnit(tiling_type = \"laves\", code = \"4.8.8\",\n",
        "                      crs = ak.crs, spacing = 500)\n",
        "\n",
        "tiling = Tiling(tile_unit, ak)\n",
        "\n",
        "fig = tiling.get_tiled_map(prioritise_tiles = True) \\\n",
        "  .render(variables = variables, colourmaps = colourmaps,\n",
        "          legend = False, figsize = (10, 7))"
      ],
      "id": "a60e4cca",
      "execution_count": null,
      "outputs": []
    },
    {
      "cell_type": "markdown",
      "metadata": {},
      "source": [
        "## {transition=\"none-in slide-out\"}\n"
      ],
      "id": "5343a1d4"
    },
    {
      "cell_type": "code",
      "metadata": {},
      "source": [
        "tile_unit = WeaveUnit(weave_type = \"twill\", n = 3, strands = \"ab|cd\",\n",
        "                      aspect = .75, crs = ak.crs, spacing = 150)\n",
        "# tile_unit = tile_unit.inset_elements(10)\n",
        "tile_unit = tile_unit.transform_rotate(30)\n",
        "tiling = Tiling(tile_unit, ak)\n",
        "\n",
        "fig = tiling.get_tiled_map(prioritise_tiles = True) \\\n",
        "  .render(variables = variables, colourmaps = colourmaps,\n",
        "          legend = False, figsize = (10, 7))"
      ],
      "id": "b46b5d45",
      "execution_count": null,
      "outputs": []
    },
    {
      "cell_type": "markdown",
      "metadata": {},
      "source": [
        "## NACIS Anthromes Poster\n",
        "\n",
        "![](images/NACIS-2022-anthromes-poster-v5-background-color.png \"NACIS Anthromes Poster\")\n",
        "\n",
        "## NACIS Anthromes Poster\n",
        "\n",
        "![](images/NACIS-2022-poster-excerpt.png \"NACIS Poster excerpt\")\n",
        "\n",
        "\n",
        "## Thematic Mapping that Bridges Spatial Analysis with Landscape Synthesis?\n",
        "\n",
        "**Can maps help us find regions of stability and variation in multidimensional data?**\n",
        "\n",
        "![](images/Midwest-COVID-Figure3c-excerpt.png \"Midwest COVID\")\n",
        "\n",
        "## Thematic Mapping that Bridges Spatial Analysis with Landscape Synthesis?\n",
        "\n",
        "![](images/Figure_4--model-bc-2022-01-29.png \"Visualizing the geographies of poisson regression models\"){.fragment .fade-in fragment-index=5 width=\"800\"}\n",
        "\n",
        "\n",
        "\n",
        "# Tiling theory {.smaller background-image=\"images/mosaic-south-america.jpg\" background-opacity=0.65 style=\"text-shadow: 2px 2px 5px #ffc, -2px -2px 5px #ffc;\"}\n",
        "\n",
        "Mosaic world map by Chris Chamberlain; see [this article](https://mymodernmet.com/chris-chamberlain-jewel-of-the-universe/) and \n",
        "[this video](https://www.youtube.com/watch?v=bgcc3w0-9X0) for more.\n",
        "\n",
        "\n",
        "## A _plane tiling_ is...\n",
        "\n",
        "> \"... a countable family of closed sets $\\mathcal{T}=\\{T_1,T_2,\\ldots\\}$ which covers the plane without gaps or overlaps. More explicitly, the union of the sets $T_1,T_2,\\ldots$ (which are known as the *tiles* of $\\mathcal{T}$) is to be the whole plane, and the interiors of the sets $T_i$ are to be pairwise disjoint\" (Grünbaum and Shephard 1987, page 16)\n",
        "\n",
        ". . . \n",
        "\n",
        "... a GIS coverage!\n",
        "\n",
        "::: aside\n",
        "Grünbaum B, Shephard GC, 1987 _Tilings and Patterns_ (WH Freeman and Company, New York)\n",
        ":::\n",
        "\n",
        "<!-- ## How many tilings?\n",
        "It's a lot. \n",
        "\n",
        "Systematic enumeration up to a certain complexity yields a ‘galaxy’ of 2.4 billion tilings (Zeller et al. 2021). You can explore the galaxy here: [_Tegula_](https://github.com/husonlab/tegula).\n",
        "\n",
        "Grünbaum and Shephard repeatedly narrow focus to tilings with specific properties so they can say anything at all.\n",
        "\n",
        "::: aside\n",
        "Zeller R, Delgado-Friedrichs O, Huson DH, 2021, “[_Tegula_ – exploring a galaxy of two-dimensional periodic tilings](https://doi.org/10.1016/j.cagd.2021.102027)” _Computer Aided Geometric Design_ **90** 102027\n",
        "::: -->\n",
        "\n",
        "## Symmetry in mathematical tiling theory\n",
        "The symmetries of a tiling map tiles on to other tiles. \n",
        "\n",
        "Sets of tiles mapped onto one another like this are *transitivity groups*, of which an *isohedral* tiling has only one.\n",
        "\n",
        "Cartographically it probably doesn't work like that...\n"
      ],
      "id": "628652be"
    },
    {
      "cell_type": "code",
      "metadata": {},
      "source": [
        "fig, ax = pyplot.subplots(1, 3, figsize = (12, 4))\n",
        "\n",
        "tilings = [\n",
        "  TileUnit(tiling_type = \"cairo\") .transform_rotate(45), \n",
        "\n",
        "  TileUnit(tiling_type = \"archimedean\", code = \"4.8.8\") \\\n",
        "    .transform_rotate(45),\n",
        "\n",
        "  WeaveUnit(weave_type = \"plain\", strands = \"(abc)|(def)\") \\\n",
        "    .transform_rotate(45)\n",
        "]\n",
        "\n",
        "for a, t, n in zip(ax, tilings, (\"iso\", \"2-\", \"2-\")):\n",
        "  t.plot(ax = a, r = 2, show_ids = False, \n",
        "          show_reg_tile = False, show_tile = False, ec = \"w\", lw = 0.75) \\\n",
        "    .set_axis_off()\n",
        "  a.set_title(f\"{n}hedral\") "
      ],
      "id": "389e9577",
      "execution_count": null,
      "outputs": []
    },
    {
      "cell_type": "markdown",
      "metadata": {},
      "source": [
        "## Symmetry in cartographic tiling theory\n",
        ":::: {.columns}\n",
        "\n",
        "::: {.column width=\"50%\"}\n",
        "*Directionality* or *orientation* is irrelevant to mathematicians. \n",
        "\n",
        "However, it *is* important for mapping: we need a concept of cartographic transitivity groups where different tile orientations ‘count’.\n",
        ":::\n",
        "\n",
        "::: {.column width=\"50%\"}"
      ],
      "id": "c0667838"
    },
    {
      "cell_type": "code",
      "metadata": {},
      "source": [
        "arrow_tile = TileUnit()\n",
        "d = arrow_tile.spacing\n",
        "arrow1 = Polygon([(-3*d/4, -d/4), (-d/4,-d/4), (-d/4,-d/2), \n",
        "                  (d/4,0), (-d/4,d/2), (-d/4,d/4), (-3*d/4,d/4)])\n",
        "arrow2 = rotate(arrow1, 180, origin = (0, -d/4))\n",
        "arrow_tile.elements = gpd.GeoDataFrame(\n",
        "    data = {\"element_id\" : list(\"ab\")}, crs = 2193,\n",
        "    geometry = gpd.GeoSeries([arrow1, arrow2]))\n",
        "\n",
        "arrow_tile = arrow_tile.transform_scale(4/3, 3/4)\n",
        "arrow_tile = arrow_tile.transform_skew(30)\n",
        "arrow_tile = arrow_tile.transform_rotate(-15)\n",
        "\n",
        "arrow_tile.plot(show_vectors = True, show_ids = False,\n",
        "                figsize = (6, 6)).set_axis_off()"
      ],
      "id": "4c398a0a",
      "execution_count": null,
      "outputs": []
    },
    {
      "cell_type": "markdown",
      "metadata": {},
      "source": [
        ":::\n",
        "::::\n",
        "\n",
        "::: aside\n",
        "Olson RK, Attneave F, 1970, “[What Variables Produce Similarity Grouping?](https://doi.org/10.2307/1420852)” _The American Journal of Psychology_ **83**(1) 1\n",
        ":::\n",
        "\n",
        "## What we learned from tiling theory\n",
        "\n",
        ". . .\n",
        "\n",
        "::: {.r-fit-text}\n",
        "¯&#92;&#95;(ツ)&#95;&#47;¯\n",
        ":::\n",
        "\n",
        ". . .\n",
        "\n",
        "We are not entirely sure... <span class=\"fragment\">but we'll keep looking!</span> \n",
        "\n",
        "\n",
        "# Tile units {.smaller background-image=\"images/wooden-diamond-triangle-tiling-toy.jpg\" background-opacity=0.65 style=\"text-shadow: 2px 2px 5px #ffc, -2px -2px 5px #ffc;\"}\n",
        "The building blocks of our approach.\n",
        "\n",
        "## The basic pattern"
      ],
      "id": "c4530f12"
    },
    {
      "cell_type": "code",
      "metadata": {
        "output-location": "fragment"
      },
      "source": [
        "#| echo: true\n",
        "#| code-line-numbers: 1|2-3\n",
        "cairo_tile = TileUnit(tiling_type = \"cairo\")\n",
        "cairo_tile.plot(r = 1, show_vectors = True, \n",
        "                figsize = (7, 7)).set_axis_off()"
      ],
      "id": "f6d41617",
      "execution_count": null,
      "outputs": []
    },
    {
      "cell_type": "markdown",
      "metadata": {},
      "source": [
        "## Triangles, squares, hexagons"
      ],
      "id": "533b7683"
    },
    {
      "cell_type": "code",
      "metadata": {},
      "source": [
        "triangles = TileUnit(tile_shape = TileShape.TRIANGLE)\n",
        "squares = TileUnit() \n",
        "hexagons = TileUnit(tile_shape = TileShape.HEXAGON)"
      ],
      "id": "c2d64e01",
      "execution_count": null,
      "outputs": []
    },
    {
      "cell_type": "code",
      "metadata": {},
      "source": [
        "fig = pyplot.figure(figsize = (13, 6))\n",
        "for u, posn in zip((triangles, squares, hexagons), range(131, 134)):\n",
        "    ax = fig.add_subplot(posn)\n",
        "    u.plot(ax = ax, r = 1, show_vectors = True).set_axis_off()"
      ],
      "id": "fe1fd1b8",
      "execution_count": null,
      "outputs": []
    },
    {
      "cell_type": "markdown",
      "metadata": {},
      "source": [
        "## Archimedean tilings by regular polygons"
      ],
      "id": "b49cba8b"
    },
    {
      "cell_type": "code",
      "metadata": {},
      "source": [
        "units = [\n",
        "  TileUnit(tiling_type = \"archimedean\", code = \"3.3.4.3.4\"),\n",
        "  TileUnit(tiling_type = \"archimedean\", code = \"3.3.3.3.6\"),\n",
        "  TileUnit(tiling_type = \"archimedean\", code = \"4.8.8\"),\n",
        "  TileUnit(tiling_type = \"archimedean\", code = \"3.6.3.6\"),\n",
        "  TileUnit(tiling_type = \"archimedean\", code = \"4.6.12\"),\n",
        "  TileUnit(tiling_type = \"archimedean\", code = \"3.4.6.4\")\n",
        "]\n",
        "fig = pyplot.figure(figsize = (12, 8))\n",
        "for u, posn in zip(units, range(231, 237)):\n",
        "    ax = fig.add_subplot(posn)\n",
        "    u.plot(ax = ax, r = 1, show_ids = False).set_axis_off()\n",
        "ax = tiling_utils.get_dual_tile_unit(units[5]).plot(\n",
        "                      ax = ax, fc = \"#00000000\", ec = \"w\")"
      ],
      "id": "37f48828",
      "execution_count": null,
      "outputs": []
    },
    {
      "cell_type": "markdown",
      "metadata": {},
      "source": [
        "## Laves (the Archimedean duals)"
      ],
      "id": "5e2d2b23"
    },
    {
      "cell_type": "code",
      "metadata": {},
      "source": [
        "units = [\n",
        "  TileUnit(tiling_type = \"laves\", code = \"3.3.4.3.4\"),\n",
        "  TileUnit(tiling_type = \"laves\", code = \"3.3.3.3.6\"),\n",
        "  TileUnit(tiling_type = \"laves\", code = \"4.8.8\"),\n",
        "  TileUnit(tiling_type = \"laves\", code = \"3.6.3.6\"),\n",
        "  TileUnit(tiling_type = \"laves\", code = \"4.6.12\"),\n",
        "  TileUnit(tiling_type = \"laves\", code = \"3.4.6.4\")\n",
        "]\n",
        "laves2 = units[1]\n",
        "fig = pyplot.figure(figsize = (12, 8))\n",
        "for u, posn in zip(units, range(231, 237)):\n",
        "    ax = fig.add_subplot(posn)\n",
        "    u.plot(ax = ax, r = 1, show_ids = False).set_axis_off()\n",
        "ax = tiling_utils.get_dual_tile_unit(units[5]).plot(\n",
        "                      ax = ax, fc = \"#00000000\", ec = \"w\")"
      ],
      "id": "4f62b50f",
      "execution_count": null,
      "outputs": []
    },
    {
      "cell_type": "markdown",
      "metadata": {},
      "source": [
        "## Hexagon dissections and colourings"
      ],
      "id": "59069a8e"
    },
    {
      "cell_type": "code",
      "metadata": {},
      "source": [
        "units = [\n",
        "  TileUnit(tiling_type = \"hex-dissection\", n = 2),\n",
        "  TileUnit(tiling_type = \"hex-dissection\", n = 3, dissection_offset = 1),\n",
        "  TileUnit(tiling_type = \"hex-dissection\", n = 12, dissection_offset = 1),\n",
        "  TileUnit(tiling_type = \"hex-colouring\", n = 3),\n",
        "  TileUnit(tiling_type = \"hex-colouring\", n = 4),\n",
        "  TileUnit(tiling_type = \"hex-colouring\", n = 7)\n",
        "]\n",
        "hexc3 = units[3]\n",
        "fig = pyplot.figure(figsize = (12, 8))\n",
        "for u, posn in zip(units, range(231, 237)):\n",
        "    ax = fig.add_subplot(posn)\n",
        "    u.plot(ax = ax, r = 1, show_ids = False).set_axis_off()"
      ],
      "id": "b0e9e12c",
      "execution_count": null,
      "outputs": []
    },
    {
      "cell_type": "markdown",
      "metadata": {},
      "source": [
        "## In general\n",
        "These (and more) are made the same way:\n"
      ],
      "id": "00aa28c3"
    },
    {
      "cell_type": "code",
      "metadata": {},
      "source": [
        "#| echo: true\n",
        "#| eval: false\n",
        "tile = TileUnit(\n",
        "  tiling_type = \"cairo|archimedean|laves|hex-dissection|square-dissection\",\n",
        "  n = ..., code = \"3.3.4.3.4\", dissection_offset = 0|1,  # optional\n",
        "  spacing = 500, crs = 2193\n",
        ")"
      ],
      "id": "32c7ca32",
      "execution_count": null,
      "outputs": []
    },
    {
      "cell_type": "markdown",
      "metadata": {},
      "source": [
        "We can also make various adjustments:\n"
      ],
      "id": "43efcc1b"
    },
    {
      "cell_type": "code",
      "metadata": {},
      "source": [
        "#| echo: true\n",
        "#| eval: false\n",
        "#| code-line-numbers: \"4\"\n",
        "tile = tile.transform_rotate(...)\n",
        "tile = tile.transform_scale(...)\n",
        "tile = tile.transform_skew(...)\n",
        "tile = tile.inset_tile(...)\n",
        "tile = tile.inset_elements(...)\n",
        "tile = tile.scale_elements(...)"
      ],
      "id": "ba14c57a",
      "execution_count": null,
      "outputs": []
    },
    {
      "cell_type": "markdown",
      "metadata": {},
      "source": [
        "## 'Insetting'\n",
        "Insetting relative to the repeating tile unit helps distinguish elements."
      ],
      "id": "fe4777f3"
    },
    {
      "cell_type": "code",
      "metadata": {},
      "source": [
        "laves2 = laves2.inset_tile(25).transform_rotate(15)\n",
        "hexc3 = hexc3.inset_tile(25)\n",
        "cairo_tile = cairo_tile.inset_tile(25).transform_rotate(-45)\n",
        "fig = pyplot.figure(figsize = (13, 5))\n",
        "ax = fig.add_subplot(131)\n",
        "laves2.plot(ax = ax, r = 1, show_ids = False, \n",
        "            show_tile = False, show_reg_tile = False).set_axis_off()\n",
        "ax = fig.add_subplot(132)\n",
        "hexc3.plot(ax = ax, r = 1, show_ids = False, \n",
        "            show_tile = False, show_reg_tile = False).set_axis_off()\n",
        "ax = fig.add_subplot(133)\n",
        "cairo_tile.plot(ax = ax, r = 2, show_ids = False, \n",
        "            show_tile = False, show_reg_tile = False).set_axis_off()"
      ],
      "id": "0ba81c77",
      "execution_count": null,
      "outputs": []
    },
    {
      "cell_type": "markdown",
      "metadata": {},
      "source": [
        "# Weaving {.smaller background-image=\"images/weave-pic-2.jpg\" background-opacity=0.65 style=\"text-shadow: 2px 2px 5px #ffc, -2px -2px 5px #ffc;\"}\n",
        "For a lot more on woven maps, see [our earlier talk](https://dosull.github.io/weaving-space/NZCS-Nov-2021/make-weave-map.html).\n",
        "\n",
        "## Weaving theory &Gt; tiling theory!\n",
        "Weaving theory leads to useful matrix-based approaches.\n",
        "\n",
        "Primarily for *biaxial weaves*.\n",
        "\n",
        "We have extended the matrix approach to *triaxial* weaves (see [our notes](https://dosull.github.io/weaving-space/code-junkyard/three-way-matrices.html)).\n",
        "\n",
        ":::aside\n",
        "This video by Lea Albaugh provides a nice introduction: \n",
        "\n",
        "[\"It's Just Matrix Multiplication\": Notation for Weaving](https://www.youtube.com/watch?v=oMOSiag3dxg), presented at the Strange Loop conference, St Louis, 27-28 Sept, 2018. \n",
        "\n",
        "And this paper spells out the details: \n",
        "\n",
        "Glassner A. 2002. [_Digital weaving 1_](https://dx.doi.org/10.1109/MCG.2002.1046635). IEEE Computer Graphics and Applications **22**(6):108–118.\n",
        ":::\n",
        "\n",
        "## Weave units\n",
        "We make these the same way we make tile units.\n"
      ],
      "id": "cf791ce7"
    },
    {
      "cell_type": "code",
      "metadata": {},
      "source": [
        "#| echo: true\n",
        "w1 = WeaveUnit(weave_type = \"twill\", n = 3, aspect = .9, \n",
        "               strands = \"ab-|cde-\")\n",
        "\n",
        "w2 = WeaveUnit(weave_type = \"cube\", aspect = .8, \n",
        "               strands = \"a-c|d-f|g-i\")"
      ],
      "id": "a604ddd3",
      "execution_count": null,
      "outputs": []
    },
    {
      "cell_type": "markdown",
      "metadata": {},
      "source": [
        "The `strands` parameter specifies which strands in each axis (separated by the `|`) are distinct, and also allows us to 'skip' strands on `-` characters  .\n",
        "\n",
        "##\n"
      ],
      "id": "d701439f"
    },
    {
      "cell_type": "code",
      "metadata": {},
      "source": [
        "fig, ax = pyplot.subplots(1, 2, figsize = (15, 9))\n",
        "for a, w in zip(ax, (w1, w2)):\n",
        "  w.plot(ax = a, show_ids = False).set_axis_off()\n",
        "  a.set_title(f'strands = \"{w.strands}\"')"
      ],
      "id": "61245512",
      "execution_count": null,
      "outputs": []
    },
    {
      "cell_type": "markdown",
      "metadata": {},
      "source": [
        "# Making a map {.smaller background-image=\"images/vermeer-the-geographer.jpg\" background-opacity=0.65 style=\"text-shadow: 2px 2px 5px #ffc, -2px -2px 5px #ffc;\"}\n",
        "Vermeer's _The Geographer_ (&bsim;1675) from [commons.wikimedia.org](https://commons.wikimedia.org/wiki/File:Johannes_Vermeer_-_The_Geographer_-_WGA24687.jpg).\n"
      ],
      "id": "f46737fa"
    },
    {
      "cell_type": "code",
      "metadata": {},
      "source": [
        "region = gpd.read_file(\"data/imd-auckland-2018.gpkg\")\n",
        "\n",
        "cairo_tile.crs = region.crs\n",
        "cairo_tile = cairo_tile.transform_scale(0.5, 0.5)"
      ],
      "id": "1ab9e9fe",
      "execution_count": null,
      "outputs": []
    },
    {
      "cell_type": "markdown",
      "metadata": {},
      "source": [
        "## Tiling a dataset\n",
        "`TileUnit`s and `WeaveUnit`s are both `Tileable` objects that can be used to make a `Tiling`.\n",
        "\n",
        "To make a `Tiling` we also need a polygon dataset to be tiled. \n"
      ],
      "id": "b8feac42"
    },
    {
      "cell_type": "code",
      "metadata": {},
      "source": [
        "#| echo: true\n",
        "tiling = Tiling(cairo_tile, region)"
      ],
      "id": "cfe5c9e5",
      "execution_count": null,
      "outputs": []
    },
    {
      "cell_type": "markdown",
      "metadata": {},
      "source": [
        "## The tiling process\n",
        "<!-- The `Tiling` holds a `TileGrid` which determines where to translate copies of the tileable units to form a tiled map.\n",
        "\n",
        "![](images/the-tiling-process.png)-->\n",
        "\n",
        "::: {.r-stack}\n",
        "\n",
        "![](images/the-tiling-process-1.png){width=\"1482\"}\n",
        "\n",
        "![](images/the-tiling-process-2.png){.fragment .fade-in fragment-index=1 width=\"1482\"}\n",
        "\n",
        "![](images/the-tiling-process-3.png){.fragment .fade-in fragment-index=2 width=\"1482\"}\n",
        "\n",
        "![](images/the-tiling-process-4.png){.fragment .fade-in fragment-index=3 width=\"1482\"}\n",
        "\n",
        "![](images/the-tiling-process-5.png){.fragment .fade-in fragment-index=4 width=\"1482\"}\n",
        "\n",
        "![](images/the-tiling-process-6.png){.fragment .fade-in fragment-index=5 width=\"1482\"}\n",
        ":::\n",
        "\n",
        "\n",
        "## Getting a tiled map\n",
        "Next, get a `TiledMap` from the the `Tiling`.\n"
      ],
      "id": "e3864e4b"
    },
    {
      "cell_type": "code",
      "metadata": {},
      "source": [
        "#| echo: true\n",
        "tiled_map = tiling.get_tiled_map(prioritise_tiles = True)"
      ],
      "id": "7f457d12",
      "execution_count": null,
      "outputs": []
    },
    {
      "cell_type": "markdown",
      "metadata": {},
      "source": [
        "This overlays the `Tiling` with the geospatial data polygons, pulling their data, and dissolves based on tile element IDs.\n",
        "\n",
        "We emphasize tile boundaries or zone boundaries in the data depending on the  `prioritise_tiles` setting.\n",
        "\n",
        "At this point, you can export to a dataset.\n"
      ],
      "id": "185d3524"
    },
    {
      "cell_type": "code",
      "metadata": {},
      "source": [
        "#| eval: false\n",
        "#| echo: true\n",
        "tiled_map.to_file(\"my_tiled_map.gpkg\") "
      ],
      "id": "80fc9c38",
      "execution_count": null,
      "outputs": []
    },
    {
      "cell_type": "markdown",
      "metadata": {},
      "source": [
        "## Designing the final map\n",
        "We have to specify the mapping from tileable element identifiers (`\"a\"`, `\"b\"`, `\"c\"` ...) to data variables.\n"
      ],
      "id": "5671a792"
    },
    {
      "cell_type": "code",
      "metadata": {},
      "source": [
        "#| echo: true\n",
        "tiled_map.variables = dict(a = \"Rank_Emplo\", b = \"Rank_Incom\", \n",
        "                           c = \"Rank_Crime\", d = \"Rank_Housi\")"
      ],
      "id": "528f1bbe",
      "execution_count": null,
      "outputs": []
    },
    {
      "cell_type": "markdown",
      "metadata": {},
      "source": [
        "We also specify a mapping from variable names to colour palettes. \n"
      ],
      "id": "54b84713"
    },
    {
      "cell_type": "code",
      "metadata": {},
      "source": [
        "#| echo: true\n",
        "tiled_map.colourmaps = dict(zip(tiled_map.variables.values(),\n",
        "                                (\"Reds\", \"Blues\", \"Greens\", \"Greys\")))"
      ],
      "id": "aaa2c7e2",
      "execution_count": null,
      "outputs": []
    },
    {
      "cell_type": "markdown",
      "metadata": {},
      "source": [
        "Now we can render a map...\n",
        "\n",
        "##"
      ],
      "id": "246fb3ae"
    },
    {
      "cell_type": "code",
      "metadata": {
        "output-location": "slide"
      },
      "source": [
        "#| echo: true\n",
        "fig = tiled_map.render(use_ellipse = True, figsize = (12, 5.5),\n",
        "                       legend_dx = -0.05, legend_dy = 0.05)"
      ],
      "id": "ede5f488",
      "execution_count": null,
      "outputs": []
    },
    {
      "cell_type": "markdown",
      "metadata": {},
      "source": [
        "There are a range of options here particularly in relation to the tricky business of generating a legend.\n",
        "\n",
        "## Some more examples {.smaller background-image=\"images/imd-arrows-clip.png\" background-opacity=0.65 style=\"text-shadow: 2px 2px 5px #ffc, -2px -2px 5px #ffc;\"}\n",
        "Because we can...\n",
        "\n",
        "##\n",
        "\n",
        "::: {.r-stack}\n",
        "\n",
        "![](images/imd-weave.png){.fragment .fade-out fragment-index=1 width=\"1000\"}\n",
        "\n",
        "<!-- ![](images/imd-arrows.png){.fragment .fade-in-then-out fragment-index=1 width=\"1000\"}\n",
        " -->\n",
        "![](images/imd-escher.png){.fragment .fade-in-then-out fragment-index=1 width=\"1000\"}\n",
        "\n",
        "![](images/gwr-example.png){.fragment .fade-in-then-out fragment-index=2 width=\"1000\"}\n",
        "\n",
        "![](images/election-2016-weave.png){.fragment .fade-in fragment-index=3 width=\"1000\"}\n",
        ":::\n",
        "\n",
        "\n",
        "# Conclusions {.smaller background-image=\"images/chevron-fabric.jpg\" background-opacity=0.65 style=\"text-shadow: 2px 2px 5px #ffc, -2px -2px 5px #ffc;\"}\n",
        "Image from [publicdomainpictures.net](https://www.publicdomainpictures.net/en/view-image.php?image=371246&picture=tejido-textil-con-estampado-de-chevon) by [Andrea Stöckel](https://www.publicdomainpictures.net/en/browse-author.php?a=149229)\n",
        "\n",
        "\n",
        "## Thoughts {background-image=\"images/chevron-fabric.jpg\" background-opacity=0.65 background-transition=\"none\"} \n",
        "This work is an exploration of the *combined* effect of pattern, orientation, texture, and colour as visual 'multi-variables'. Along the way we've seen some things that appear promising:\n",
        "\n",
        "::: {.incremental}\n",
        "+ Contrasting variables by applying the same colour scheme to multiple attributes\n",
        "+ Emergent multivariate regions (with uncertain boundaries)  \n",
        "+ (Related) an overall sense of complex landscapes\n",
        ":::\n",
        "\n",
        "## Challenges {background-image=\"images/chevron-fabric.jpg\" background-opacity=0.65 background-transition=\"none\"} \n",
        "There is plenty to think about\n",
        "\n",
        ":::{.incremental}\n",
        "+ Using colour well is hard at the best of times&mdash;using several colours at once is even harder!\n",
        "+ Legends are a challenge&mdash;ideas welcome!\n",
        "+ We've worked hard to make the code easy to use... \n",
        "+ ... but it's still code\n",
        ":::\n",
        "\n",
        "\n",
        "## Further work {background-image=\"images/chevron-fabric.jpg\" background-opacity=0.65 background-transition=\"none\"} \n",
        "The code used to make this talk is available at [github.com/DOSull/weaving-space](https://github.com/DOSull/weaving-space).\n",
        "\n",
        "We are keen to get feedback, contributions, and ideas, especially:\n",
        "\n",
        "+ Actual users of the approach\n",
        "+ QGIS plugin development\n",
        "\n",
        "If you have a project where this approach might work, please reach out!\n",
        "\n",
        "## {style=\"text-align:center;\"}\n",
        "### Questions? {.r-fit-text} \n",
        "[github.com/DOSull/weaving-space](https://github.com/DOSull/weaving-space)"
      ],
      "id": "7067fd5a"
    }
  ],
  "metadata": {
    "kernelspec": {
      "name": "python3",
      "language": "python",
      "display_name": "Python 3 (ipykernel)"
    }
  },
  "nbformat": 4,
  "nbformat_minor": 5
}